{
 "cells": [
  {
   "cell_type": "code",
   "execution_count": 2,
   "id": "6c9369e8",
   "metadata": {},
   "outputs": [],
   "source": [
    "import numpy as no\n",
    "import datetime as dt"
   ]
  },
  {
   "cell_type": "code",
   "execution_count": 25,
   "id": "fe956f8d",
   "metadata": {},
   "outputs": [],
   "source": [
    "ch1 = [dt.datetime(2012, 1, 24, 0, 51, 55), dt.datetime(2012, 1, 24, 1, 55, 35), dt.datetime(2012, 1, 24, 2, 57, 46)]\n",
    "ch2 = [dt.datetime(2012, 1, 24, 0, 53, 58), dt.datetime(2012, 1, 24, 1, 0, 49), dt.datetime(2012, 1, 24, 1, 7, 40)]\n",
    "ch5 = [dt.datetime(2012, 1, 24, 0, 56, 42), dt.datetime(2012, 1, 24, 1, 3, 32), dt.datetime(2012, 1, 24, 1, 10, 23)]\n",
    "ch6 = [dt.datetime(2012, 1, 24, 0, 58, 45), dt.datetime(2012, 1, 24, 1, 5, 36), dt.datetime(2012, 1, 24, 1, 12, 27)]"
   ]
  },
  {
   "cell_type": "code",
   "execution_count": 26,
   "id": "da311267",
   "metadata": {},
   "outputs": [
    {
     "name": "stdout",
     "output_type": "stream",
     "text": [
      "1:02:55.500000\n",
      "0:06:51\n",
      "0:06:50.500000\n",
      "0:06:51\n"
     ]
    }
   ],
   "source": [
    "ch1delta = (ch1[2] - ch1[0])/2\n",
    "ch2delta = (ch2[2] - ch2[0])/2\n",
    "ch5delta = (ch5[2] - ch5[0])/2\n",
    "ch6delta = (ch6[2] - ch6[0])/2\n",
    "print(ch1delta)\n",
    "print(ch2delta)\n",
    "print(ch5delta)\n",
    "print(ch6delta)"
   ]
  },
  {
   "cell_type": "code",
   "execution_count": 27,
   "id": "c997a326",
   "metadata": {},
   "outputs": [
    {
     "name": "stdout",
     "output_type": "stream",
     "text": [
      "1:02:11\n"
     ]
    }
   ],
   "source": [
    "ch1delta_half = (ch1[2] - ch1[1])\n",
    "print(ch1delta_half)"
   ]
  },
  {
   "cell_type": "code",
   "execution_count": 29,
   "id": "de1d66c3",
   "metadata": {},
   "outputs": [
    {
     "name": "stdout",
     "output_type": "stream",
     "text": [
      "0:00:00\n",
      "1:03:40\n",
      "2:05:51\n",
      "\n",
      "0:02:03\n",
      "0:08:54\n",
      "0:15:45\n",
      "\n",
      "0:04:47\n",
      "0:11:37\n",
      "0:18:28\n",
      "\n",
      "0:06:50\n",
      "0:13:41\n",
      "0:20:32\n"
     ]
    },
    {
     "data": {
      "text/plain": [
       "[None, None, None]"
      ]
     },
     "execution_count": 29,
     "metadata": {},
     "output_type": "execute_result"
    }
   ],
   "source": [
    "[print(chA1 - dt.datetime(2012, 1, 24, 0, 51, 55)) for chA1 in ch1]\n",
    "print()\n",
    "[print(chA2 - dt.datetime(2012, 1, 24, 0, 51, 55)) for chA2 in ch2]\n",
    "print()\n",
    "[print(chA5 - dt.datetime(2012, 1, 24, 0, 51, 55)) for chA5 in ch5]\n",
    "print()\n",
    "[print(chA6 - dt.datetime(2012, 1, 24, 0, 51, 55)) for chA6 in ch6]"
   ]
  },
  {
   "cell_type": "code",
   "execution_count": null,
   "id": "361775d6",
   "metadata": {},
   "outputs": [],
   "source": []
  }
 ],
 "metadata": {
  "kernelspec": {
   "display_name": "Python 3 (ipykernel)",
   "language": "python",
   "name": "python3"
  },
  "language_info": {
   "codemirror_mode": {
    "name": "ipython",
    "version": 3
   },
   "file_extension": ".py",
   "mimetype": "text/x-python",
   "name": "python",
   "nbconvert_exporter": "python",
   "pygments_lexer": "ipython3",
   "version": "3.10.6"
  }
 },
 "nbformat": 4,
 "nbformat_minor": 5
}
